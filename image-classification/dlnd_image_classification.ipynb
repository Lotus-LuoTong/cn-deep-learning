{
 "cells": [
  {
   "cell_type": "markdown",
   "metadata": {
    "collapsed": true
   },
   "source": [
    "# 图像分类\n",
    "\n",
    "在此项目中，你将对 [CIFAR-10 数据集](https://www.cs.toronto.edu/~kriz/cifar.html) 中的图片进行分类。该数据集包含飞机、猫狗和其他物体。你需要预处理这些图片，然后用所有样本训练一个卷积神经网络。图片需要标准化（normalized），标签需要采用 one-hot 编码。你需要应用所学的知识构建卷积的、最大池化（max pooling）、丢弃（dropout）和完全连接（fully connected）的层。最后，你需要在样本图片上看到神经网络的预测结果。\n",
    "\n",
    "\n",
    "## 获取数据\n",
    "\n",
    "请运行以下单元，以下载 [CIFAR-10 数据集（Python版）](https://www.cs.toronto.edu/~kriz/cifar-10-python.tar.gz)。\n"
   ]
  },
  {
   "cell_type": "code",
   "execution_count": 198,
   "metadata": {},
   "outputs": [
    {
     "name": "stdout",
     "output_type": "stream",
     "text": [
      "All files found!\n"
     ]
    }
   ],
   "source": [
    "\"\"\"\n",
    "DON'T MODIFY ANYTHING IN THIS CELL THAT IS BELOW THIS LINE\n",
    "\"\"\"\n",
    "from urllib.request import urlretrieve\n",
    "from os.path import isfile, isdir\n",
    "from tqdm import tqdm\n",
    "import problem_unittests as tests\n",
    "import tarfile\n",
    "\n",
    "cifar10_dataset_folder_path = 'cifar-10-batches-py'\n",
    "\n",
    "# Use Floyd's cifar-10 dataset if present\n",
    "floyd_cifar10_location = '/input/cifar-10/python.tar.gz'\n",
    "if isfile(floyd_cifar10_location):\n",
    "    tar_gz_path = floyd_cifar10_location\n",
    "else:\n",
    "    tar_gz_path = 'cifar-10-python.tar.gz'\n",
    "\n",
    "class DLProgress(tqdm):\n",
    "    last_block = 0\n",
    "\n",
    "    def hook(self, block_num=1, block_size=1, total_size=None):\n",
    "        self.total = total_size\n",
    "        self.update((block_num - self.last_block) * block_size)\n",
    "        self.last_block = block_num\n",
    "\n",
    "if not isfile(tar_gz_path):\n",
    "    with DLProgress(unit='B', unit_scale=True, miniters=1, desc='CIFAR-10 Dataset') as pbar:\n",
    "        urlretrieve(\n",
    "            'https://www.cs.toronto.edu/~kriz/cifar-10-python.tar.gz',\n",
    "            tar_gz_path,\n",
    "            pbar.hook)\n",
    "\n",
    "if not isdir(cifar10_dataset_folder_path):\n",
    "    with tarfile.open(tar_gz_path) as tar:\n",
    "        tar.extractall()\n",
    "        tar.close()\n",
    "\n",
    "\n",
    "tests.test_folder_path(cifar10_dataset_folder_path)"
   ]
  },
  {
   "cell_type": "markdown",
   "metadata": {},
   "source": [
    "## 探索数据\n",
    "\n",
    "该数据集分成了几部分／批次（batches），以免你的机器在计算时内存不足。CIFAR-10 数据集包含 5 个部分，名称分别为 `data_batch_1`、`data_batch_2`，以此类推。每个部分都包含以下某个类别的标签和图片：\n",
    "\n",
    "* 飞机\n",
    "* 汽车\n",
    "* 鸟类\n",
    "* 猫\n",
    "* 鹿\n",
    "* 狗\n",
    "* 青蛙\n",
    "* 马\n",
    "* 船只\n",
    "* 卡车\n",
    "\n",
    "了解数据集也是对数据进行预测的必经步骤。你可以通过更改 `batch_id` 和 `sample_id` 探索下面的代码单元。`batch_id` 是数据集一个部分的 ID（1 到 5）。`sample_id` 是该部分中图片和标签对（label pair）的 ID。\n",
    "\n",
    "问问你自己：“可能的标签有哪些？”、“图片数据的值范围是多少？”、“标签是按顺序排列，还是随机排列的？”。思考类似的问题，有助于你预处理数据，并使预测结果更准确。\n"
   ]
  },
  {
   "cell_type": "code",
   "execution_count": 202,
   "metadata": {},
   "outputs": [
    {
     "name": "stdout",
     "output_type": "stream",
     "text": [
      "\n",
      "Stats of batch 1:\n",
      "Samples: 10000\n",
      "Label Counts: {0: 1005, 1: 974, 2: 1032, 3: 1016, 4: 999, 5: 937, 6: 1030, 7: 1001, 8: 1025, 9: 981}\n",
      "First 20 Labels: [6, 9, 9, 4, 1, 1, 2, 7, 8, 3, 4, 7, 7, 2, 9, 9, 9, 3, 2, 6]\n",
      "\n",
      "Example of Image 600:\n",
      "Image - Min Value: 24 Max Value: 242\n",
      "Image - Shape: (32, 32, 3)\n",
      "Label - Label Id: 0 Name: airplane\n"
     ]
    },
    {
     "data": {
      "image/png": "[encoded data removed]",
      "text/plain": [
       "<matplotlib.figure.Figure at 0x1a182e9f28>"
      ]
     },
     "metadata": {
      "image/png": {
       "height": 250,
       "width": 253
      }
     },
     "output_type": "display_data"
    }
   ],
   "source": [
    "%matplotlib inline\n",
    "%config InlineBackend.figure_format = 'retina'\n",
    "\n",
    "import helper\n",
    "import numpy as np\n",
    "\n",
    "# Explore the dataset\n",
    "batch_id = 1\n",
    "sample_id = 600\n",
    "helper.display_stats(cifar10_dataset_folder_path, batch_id, sample_id)"
   ]
  },
  {
   "cell_type": "markdown",
   "metadata": {},
   "source": [
    "## 实现预处理函数\n",
    "\n",
    "### 标准化\n",
    "\n",
    "在下面的单元中，实现 `normalize` 函数，传入图片数据 `x`，并返回标准化 Numpy 数组。值应该在 0 到 1 的范围内（含 0 和 1）。返回对象应该和 `x` 的形状一样。\n"
   ]
  },
  {
   "cell_type": "code",
   "execution_count": 206,
   "metadata": {},
   "outputs": [
    {
     "name": "stdout",
     "output_type": "stream",
     "text": [
      "Tests Passed\n"
     ]
    }
   ],
   "source": [
    "def normalize(x):\n",
    "    \"\"\"\n",
    "    Normalize a list of sample image data in the range of 0 to 1\n",
    "    : x: List of image data.  The image shape is (32, 32, 3)\n",
    "    : return: Numpy array of normalize data\n",
    "    \"\"\"\n",
    "    # TODO: Implement Function\n",
    "    #from sklearn.preprocessing import MinMaxScaler\n",
    "    #scaler = MinMaxScaler()\n",
    "    #res = scaler.fit_transform(x)\n",
    "    res = (x - x.min(axis=0)) / (x.max(axis=0) - x.min(axis=0))\n",
    "    return res\n",
    "\n",
    "\n",
    "\"\"\"\n",
    "DON'T MODIFY ANYTHING IN THIS CELL THAT IS BELOW THIS LINE\n",
    "\"\"\"\n",
    "tests.test_normalize(normalize)"
   ]
  },
  {
   "cell_type": "markdown",
   "metadata": {},
   "source": [
    "### One-hot 编码\n",
    "\n",
    "和之前的代码单元一样，你将为预处理实现一个函数。这次，你将实现 `one_hot_encode` 函数。输入，也就是 `x`，是一个标签列表。实现该函数，以返回为 one_hot 编码的 Numpy 数组的标签列表。标签的可能值为 0 到 9。每次调用 `one_hot_encode` 时，对于每个值，one_hot 编码函数应该返回相同的编码。确保将编码映射保存到该函数外面。\n",
    "\n",
    "提示：不要重复发明轮子。\n"
   ]
  },
  {
   "cell_type": "code",
   "execution_count": 236,
   "metadata": {},
   "outputs": [
    {
     "name": "stdout",
     "output_type": "stream",
     "text": [
      "Tests Passed\n"
     ]
    }
   ],
   "source": [
    "from sklearn.preprocessing import LabelBinarizer\n",
    "lb = LabelBinarizer().fit(np.arange(10))\n",
    "def one_hot_encode(x):\n",
    "    \"\"\"\n",
    "    One hot encode a list of sample labels. Return a one-hot encoded vector for each label.\n",
    "    : x: List of sample Labels\n",
    "    : return: Numpy array of one-hot encoded labels\n",
    "    \"\"\"\n",
    "    # TODO: Implement Function    \n",
    "    res = lb.transform(x)\n",
    "    return res\n",
    "\n",
    "\n",
    "\"\"\"\n",
    "DON'T MODIFY ANYTHING IN THIS CELL THAT IS BELOW THIS LINE\n",
    "\"\"\"\n",
    "tests.test_one_hot_encode(one_hot_encode)"
   ]
  },
  {
   "cell_type": "markdown",
   "metadata": {},
   "source": [
    "### 随机化数据\n",
    "\n",
    "之前探索数据时，你已经了解到，样本的顺序是随机的。再随机化一次也不会有什么关系，但是对于这个数据集没有必要。\n"
   ]
  },
  {
   "cell_type": "markdown",
   "metadata": {},
   "source": [
    "## 预处理所有数据并保存\n",
    "\n",
    "运行下方的代码单元，将预处理所有 CIFAR-10 数据，并保存到文件中。下面的代码还使用了 10% 的训练数据，用来验证。\n"
   ]
  },
  {
   "cell_type": "code",
   "execution_count": 51,
   "metadata": {},
   "outputs": [],
   "source": [
    "\"\"\"\n",
    "DON'T MODIFY ANYTHING IN THIS CELL\n",
    "\"\"\"\n",
    "# Preprocess Training, Validation, and Testing Data\n",
    "helper.preprocess_and_save_data(cifar10_dataset_folder_path, normalize, one_hot_encode)"
   ]
  },
  {
   "cell_type": "markdown",
   "metadata": {},
   "source": [
    "# 检查点\n",
    "\n",
    "这是你的第一个检查点。如果你什么时候决定再回到该记事本，或需要重新启动该记事本，你可以从这里开始。预处理的数据已保存到本地。\n"
   ]
  },
  {
   "cell_type": "code",
   "execution_count": 52,
   "metadata": {},
   "outputs": [],
   "source": [
    "\"\"\"\n",
    "DON'T MODIFY ANYTHING IN THIS CELL\n",
    "\"\"\"\n",
    "import pickle\n",
    "import problem_unittests as tests\n",
    "import helper\n",
    "\n",
    "# Load the Preprocessed Validation data\n",
    "valid_features, valid_labels = pickle.load(open('preprocess_validation.p', mode='rb'))"
   ]
  },
  {
   "cell_type": "markdown",
   "metadata": {},
   "source": [
    "## 构建网络\n",
    "\n",
    "对于该神经网络，你需要将每层都构建为一个函数。你看到的大部分代码都位于函数外面。要更全面地测试你的代码，我们需要你将每层放入一个函数中。这样使我们能够提供更好的反馈，并使用我们的统一测试检测简单的错误，然后再提交项目。\n",
    "\n",
    ">**注意**：如果你觉得每周很难抽出足够的时间学习这门课程，我们为此项目提供了一个小捷径。对于接下来的几个问题，你可以使用 [TensorFlow Layers](https://www.tensorflow.org/api_docs/python/tf/layers) 或 [TensorFlow Layers (contrib)](https://www.tensorflow.org/api_guides/python/contrib.layers) 程序包中的类来构建每个层级，但是“卷积和最大池化层级”部分的层级除外。TF Layers 和 Keras 及 TFLearn 层级类似，因此很容易学会。\n",
    "\n",
    ">但是，如果你想充分利用这门课程，请尝试自己解决所有问题，不使用 TF Layers 程序包中的任何类。你依然可以使用其他程序包中的类，这些类和你在 TF Layers 中的类名称是一样的！例如，你可以使用 TF Neural Network 版本的 `conv2d` 类 [tf.nn.conv2d](https://www.tensorflow.org/api_docs/python/tf/nn/conv2d)，而不是 TF Layers 版本的 `conv2d` 类 [tf.layers.conv2d](https://www.tensorflow.org/api_docs/python/tf/layers/conv2d)。\n",
    "\n",
    "我们开始吧！\n",
    "\n",
    "\n",
    "### 输入\n",
    "\n",
    "神经网络需要读取图片数据、one-hot 编码标签和丢弃保留概率（dropout keep probability）。请实现以下函数：\n",
    "\n",
    "* 实现 `neural_net_image_input`\n",
    " * 返回 [TF Placeholder](https://www.tensorflow.org/api_docs/python/tf/placeholder)\n",
    " * 使用 `image_shape` 设置形状，部分大小设为 `None`\n",
    " * 使用 [TF Placeholder](https://www.tensorflow.org/api_docs/python/tf/placeholder) 中的 TensorFlow `name` 参数对 TensorFlow 占位符 \"x\" 命名\n",
    "* 实现 `neural_net_label_input`\n",
    " * 返回 [TF Placeholder](https://www.tensorflow.org/api_docs/python/tf/placeholder)\n",
    " * 使用 `n_classes` 设置形状，部分大小设为 `None`\n",
    " * 使用 [TF Placeholder](https://www.tensorflow.org/api_docs/python/tf/placeholder) 中的 TensorFlow `name` 参数对 TensorFlow 占位符 \"y\" 命名\n",
    "* 实现 `neural_net_keep_prob_input`\n",
    " * 返回 [TF Placeholder](https://www.tensorflow.org/api_docs/python/tf/placeholder)，用于丢弃保留概率\n",
    " * 使用 [TF Placeholder](https://www.tensorflow.org/api_docs/python/tf/placeholder) 中的 TensorFlow `name` 参数对 TensorFlow 占位符 \"keep_prob\" 命名\n",
    "\n",
    "这些名称将在项目结束时，用于加载保存的模型。\n",
    "\n",
    "注意：TensorFlow 中的 `None` 表示形状可以是动态大小。"
   ]
  },
  {
   "cell_type": "code",
   "execution_count": 238,
   "metadata": {},
   "outputs": [
    {
     "name": "stdout",
     "output_type": "stream",
     "text": [
      "Image Input Tests Passed.\n",
      "Label Input Tests Passed.\n",
      "Keep Prob Tests Passed.\n"
     ]
    }
   ],
   "source": [
    "import tensorflow as tf\n",
    "\n",
    "def neural_net_image_input(image_shape):\n",
    "    \"\"\"\n",
    "    Return a Tensor for a batch of image input\n",
    "    : image_shape: Shape of the images\n",
    "    : return: Tensor for image input.\n",
    "    \"\"\"\n",
    "    # TODO: Implement Function\n",
    "    #return tf.placeholder(tf.float32, name='x', \\\n",
    "    #                      shape=[None, image_shape[0], image_shape[1], image_shape[2]])\n",
    "    return tf.placeholder(tf.float32, name='x', shape=[None, *image_shape])\n",
    "\n",
    "\n",
    "def neural_net_label_input(n_classes):\n",
    "    \"\"\"\n",
    "    Return a Tensor for a batch of label input\n",
    "    : n_classes: Number of classes\n",
    "    : return: Tensor for label input.\n",
    "    \"\"\"\n",
    "    # TODO: Implement Function\n",
    "    return tf.placeholder(tf.float32, name='y', shape=[None, n_classes])\n",
    "\n",
    "\n",
    "def neural_net_keep_prob_input():\n",
    "    \"\"\"\n",
    "    Return a Tensor for keep probability\n",
    "    : return: Tensor for keep probability.\n",
    "    \"\"\"\n",
    "    # TODO: Implement Function\n",
    "    return tf.placeholder(tf.float32, name='keep_prob')\n",
    "\n",
    "\n",
    "\"\"\"\n",
    "DON'T MODIFY ANYTHING IN THIS CELL THAT IS BELOW THIS LINE\n",
    "\"\"\"\n",
    "tf.reset_default_graph()\n",
    "tests.test_nn_image_inputs(neural_net_image_input)\n",
    "tests.test_nn_label_inputs(neural_net_label_input)\n",
    "tests.test_nn_keep_prob_inputs(neural_net_keep_prob_input)"
   ]
  },
  {
   "cell_type": "markdown",
   "metadata": {},
   "source": [
    "### 卷积和最大池化层\n",
    "\n",
    "卷积层级适合处理图片。对于此代码单元，你应该实现函数 `conv2d_maxpool` 以便应用卷积然后进行最大池化：\n",
    "\n",
    "* 使用 `conv_ksize`、`conv_num_outputs` 和 `x_tensor` 的形状创建权重（weight）和偏置（bias）。\n",
    "* 使用权重和 `conv_strides` 对 `x_tensor` 应用卷积。\n",
    " * 建议使用我们建议的间距（padding），当然也可以使用任何其他间距。\n",
    "* 添加偏置\n",
    "* 向卷积中添加非线性激活（nonlinear activation）\n",
    "* 使用 `pool_ksize` 和 `pool_strides` 应用最大池化\n",
    " * 建议使用我们建议的间距（padding），当然也可以使用任何其他间距。\n",
    "\n",
    "**注意**：对于**此层**，**请勿使用** [TensorFlow Layers](https://www.tensorflow.org/api_docs/python/tf/layers) 或 [TensorFlow Layers (contrib)](https://www.tensorflow.org/api_guides/python/contrib.layers)，但是仍然可以使用 TensorFlow 的 [Neural Network](https://www.tensorflow.org/api_docs/python/tf/nn) 包。对于所有**其他层**，你依然可以使用快捷方法。\n"
   ]
  },
  {
   "cell_type": "code",
   "execution_count": 239,
   "metadata": {},
   "outputs": [
    {
     "name": "stdout",
     "output_type": "stream",
     "text": [
      "Tests Passed\n"
     ]
    }
   ],
   "source": [
    "def conv2d_maxpool(x_tensor, conv_num_outputs, conv_ksize, conv_strides, pool_ksize, pool_strides):\n",
    "    \"\"\"\n",
    "    Apply convolution then max pooling to x_tensor\n",
    "    :param x_tensor: TensorFlow Tensor\n",
    "    :param conv_num_outputs: Number of outputs for the convolutional layer\n",
    "    :param conv_ksize: kernal size 2-D Tuple for the convolutional layer\n",
    "    :param conv_strides: Stride 2-D Tuple for convolution\n",
    "    :param pool_ksize: kernal size 2-D Tuple for pool\n",
    "    :param pool_strides: Stride 2-D Tuple for pool\n",
    "    : return: A tensor that represents convolution and max pooling of x_tensor\n",
    "    \"\"\"\n",
    "    # TODO: Implement Function\n",
    "    weight = tf.Variable(tf.truncated_normal([conv_ksize[0], conv_ksize[1], \\\n",
    "                                              int(x_tensor.shape[3]), conv_num_outputs], stddev=0.05))\n",
    "    bias = tf.Variable(tf.zeros([conv_num_outputs],))\n",
    "    conv1 = tf.nn.conv2d(x_tensor, weight, strides=[1,conv_strides[0], conv_strides[1],1], padding='VALID')\n",
    "    conv1 = tf.nn.bias_add(conv1, bias)\n",
    "    conv1 = tf.tanh(conv1)\n",
    "    pool1 = tf.nn.max_pool(conv1, \\\n",
    "                           [1,pool_ksize[0], pool_ksize[1],1], \\\n",
    "                           [1,pool_strides[0], pool_strides[1],1], \\\n",
    "                            padding='VALID')\n",
    "    return pool1\n",
    "\n",
    "\n",
    "\"\"\"\n",
    "DON'T MODIFY ANYTHING IN THIS CELL THAT IS BELOW THIS LINE\n",
    "\"\"\"\n",
    "tests.test_con_pool(conv2d_maxpool)"
   ]
  },
  {
   "cell_type": "markdown",
   "metadata": {},
   "source": [
    "### 扁平化层\n",
    "\n",
    "实现 `flatten` 函数，将 `x_tensor` 的维度从四维张量（4-D tensor）变成二维张量。输出应该是形状（*部分大小（Batch Size）*，*扁平化图片大小（Flattened Image Size）*）。快捷方法：对于此层，你可以使用 [TensorFlow Layers](https://www.tensorflow.org/api_docs/python/tf/layers) 或 [TensorFlow Layers (contrib)](https://www.tensorflow.org/api_guides/python/contrib.layers) 包中的类。如果你想要更大挑战，可以仅使用其他 TensorFlow 程序包。\n"
   ]
  },
  {
   "cell_type": "code",
   "execution_count": 210,
   "metadata": {},
   "outputs": [
    {
     "name": "stdout",
     "output_type": "stream",
     "text": [
      "Tests Passed\n"
     ]
    }
   ],
   "source": [
    "def flatten(x_tensor):\n",
    "    \"\"\"\n",
    "    Flatten x_tensor to (Batch Size, Flattened Image Size)\n",
    "    : x_tensor: A tensor of size (Batch Size, ...), where ... are the image dimensions.\n",
    "    : return: A tensor of size (Batch Size, Flattened Image Size).\n",
    "    \"\"\"\n",
    "    # TODO: Implement Function \n",
    "    # print(x_tensor)\n",
    "    # print(x_tensor.shape)\n",
    "    # print(tf.shape(x_tensor))\n",
    "    res = tf.reshape(x_tensor, shape=[-1,x_tensor.shape[1]*x_tensor.shape[2]*x_tensor.shape[3]])\n",
    "    return res\n",
    "\n",
    "\n",
    "\"\"\"\n",
    "DON'T MODIFY ANYTHING IN THIS CELL THAT IS BELOW THIS LINE\n",
    "\"\"\"\n",
    "tests.test_flatten(flatten)"
   ]
  },
  {
   "cell_type": "markdown",
   "metadata": {},
   "source": [
    "### 全连接层\n",
    "\n",
    "实现 `fully_conn` 函数，以向 `x_tensor` 应用完全连接的层级，形状为（*部分大小（Batch Size）*，*num_outputs*）。快捷方法：对于此层，你可以使用 [TensorFlow Layers](https://www.tensorflow.org/api_docs/python/tf/layers) 或 [TensorFlow Layers (contrib)](https://www.tensorflow.org/api_guides/python/contrib.layers) 包中的类。如果你想要更大挑战，可以仅使用其他 TensorFlow 程序包。"
   ]
  },
  {
   "cell_type": "code",
   "execution_count": 241,
   "metadata": {},
   "outputs": [
    {
     "name": "stdout",
     "output_type": "stream",
     "text": [
      "Tests Passed\n"
     ]
    }
   ],
   "source": [
    "def fully_conn(x_tensor, num_outputs):\n",
    "    \"\"\"\n",
    "    Apply a fully connected layer to x_tensor using weight and bias\n",
    "    : x_tensor: A 2-D tensor where the first dimension is batch size.\n",
    "    : num_outputs: The number of output that the new tensor should be.\n",
    "    : return: A 2-D tensor where the second dimension is num_outputs.\n",
    "    \"\"\"\n",
    "    # TODO: Implement Function\n",
    "    return tf.contrib.layers.fully_connected(x_tensor, num_outputs)\n",
    "\n",
    "\n",
    "\"\"\"\n",
    "DON'T MODIFY ANYTHING IN THIS CELL THAT IS BELOW THIS LINE\n",
    "\"\"\"\n",
    "tests.test_fully_conn(fully_conn)"
   ]
  },
  {
   "cell_type": "markdown",
   "metadata": {},
   "source": [
    "### 输出层\n",
    "\n",
    "实现 `output` 函数，向 x_tensor 应用完全连接的层级，形状为（*部分大小（Batch Size）*，*num_outputs*）。快捷方法：对于此层，你可以使用 [TensorFlow Layers](https://www.tensorflow.org/api_docs/python/tf/layers) 或 [TensorFlow Layers (contrib)](https://www.tensorflow.org/api_guides/python/contrib.layers) 包中的类。如果你想要更大挑战，可以仅使用其他 TensorFlow 程序包。\n",
    "\n",
    "**注意**：该层级不应应用 Activation、softmax 或交叉熵（cross entropy）。"
   ]
  },
  {
   "cell_type": "code",
   "execution_count": 242,
   "metadata": {},
   "outputs": [
    {
     "name": "stdout",
     "output_type": "stream",
     "text": [
      "Tests Passed\n"
     ]
    }
   ],
   "source": [
    "def output(x_tensor, num_outputs):\n",
    "    \"\"\"\n",
    "    Apply a output layer to x_tensor using weight and bias\n",
    "    : x_tensor: A 2-D tensor where the first dimension is batch size.\n",
    "    : num_outputs: The number of output that the new tensor should be.\n",
    "    : return: A 2-D tensor where the second dimension is num_outputs.\n",
    "    \"\"\"\n",
    "    # TODO: Implement Function\n",
    "    return tf.contrib.layers.fully_connected(x_tensor, num_outputs, activation_fn=None)\n",
    "\n",
    "\n",
    "\"\"\"\n",
    "DON'T MODIFY ANYTHING IN THIS CELL THAT IS BELOW THIS LINE\n",
    "\"\"\"\n",
    "tests.test_output(output)"
   ]
  },
  {
   "cell_type": "markdown",
   "metadata": {},
   "source": [
    "### 创建卷积模型\n",
    "\n",
    "实现函数 `conv_net`， 创建卷积神经网络模型。该函数传入一批图片 `x`，并输出对数（logits）。使用你在上方创建的层创建此模型：\n",
    "\n",
    "* 应用 1、2 或 3 个卷积和最大池化层（Convolution and Max Pool layers）\n",
    "* 应用一个扁平层（Flatten Layer）\n",
    "* 应用 1、2 或 3 个完全连接层（Fully Connected Layers）\n",
    "* 应用一个输出层（Output Layer）\n",
    "* 返回输出\n",
    "* 使用 `keep_prob` 向模型中的一个或多个层应用 [TensorFlow 的 Dropout](https://www.tensorflow.org/api_docs/python/tf/nn/dropout)"
   ]
  },
  {
   "cell_type": "code",
   "execution_count": 245,
   "metadata": {},
   "outputs": [
    {
     "name": "stdout",
     "output_type": "stream",
     "text": [
      "Neural Network Built!\n"
     ]
    }
   ],
   "source": [
    "def conv_net(x, keep_prob):\n",
    "    \"\"\"\n",
    "    Create a convolutional neural network model\n",
    "    : x: Placeholder tensor that holds image data.\n",
    "    : keep_prob: Placeholder tensor that hold dropout keep probability.\n",
    "    : return: Tensor that represents logits\n",
    "    \"\"\"\n",
    "    # TODO: Apply 1, 2, or 3 Convolution and Max Pool layers\n",
    "    #    Play around with different number of outputs, kernel size and stride\n",
    "    # Function Definition from Above:\n",
    "    #    conv2d_maxpool(x_tensor, conv_num_outputs, conv_ksize, conv_strides, pool_ksize, pool_strides)\n",
    "    conv = conv2d_maxpool(x, conv_num_outputs=64, conv_ksize=(3,3), conv_strides=(1,1), \\\n",
    "                          pool_ksize=(3,3), pool_strides=(2,2))\n",
    "    conv = conv2d_maxpool(conv, conv_num_outputs=128, conv_ksize=(3,3), conv_strides=(1,1), \\\n",
    "                          pool_ksize=(3,3), pool_strides=(2,2))\n",
    "    conv = conv2d_maxpool(conv, conv_num_outputs=256, conv_ksize=(3,3), conv_strides=(1,1), \\\n",
    "                          pool_ksize=(3,3), pool_strides=(2,2))\n",
    "    \n",
    "\n",
    "    # TODO: Apply a Flatten Layer\n",
    "    # Function Definition from Above:\n",
    "    #   flatten(x_tensor)\n",
    "    flat = flatten(conv)\n",
    "    \n",
    "\n",
    "    # TODO: Apply 1, 2, or 3 Fully Connected Layers\n",
    "    #    Play around with different number of outputs\n",
    "    # Function Definition from Above:\n",
    "    #   fully_conn(x_tensor, num_outputs)\n",
    "    flcn = fully_conn(flat, num_outputs=256)\n",
    "    flcn = tf.nn.dropout(flcn, keep_prob)\n",
    "    flcn = fully_conn(flcn, num_outputs=128)    \n",
    "    #flcn = fully_conn(flcn, num_outputs=64)\n",
    "    flcn = tf.nn.dropout(flcn, keep_prob)\n",
    "    \n",
    "    \n",
    "    # TODO: Apply an Output Layer\n",
    "    #    Set this to the number of classes\n",
    "    # Function Definition from Above:\n",
    "    #   output(x_tensor, num_outputs)\n",
    "    logits = output(flcn, num_outputs=10)\n",
    "    \n",
    "    \n",
    "    # TODO: return output\n",
    "    return logits\n",
    "\n",
    "\n",
    "\"\"\"\n",
    "DON'T MODIFY ANYTHING IN THIS CELL THAT IS BELOW THIS LINE\n",
    "\"\"\"\n",
    "\n",
    "##############################\n",
    "## Build the Neural Network ##\n",
    "##############################\n",
    "\n",
    "# Remove previous weights, bias, inputs, etc..\n",
    "tf.reset_default_graph()\n",
    "\n",
    "# Inputs\n",
    "x = neural_net_image_input((32, 32, 3))\n",
    "y = neural_net_label_input(10)\n",
    "keep_prob = neural_net_keep_prob_input()\n",
    "\n",
    "# Model\n",
    "logits = conv_net(x, keep_prob)\n",
    "\n",
    "# Name logits Tensor, so that is can be loaded from disk after training\n",
    "logits = tf.identity(logits, name='logits')\n",
    "\n",
    "# Loss and Optimizer\n",
    "cost = tf.reduce_mean(tf.nn.softmax_cross_entropy_with_logits(logits=logits, labels=y))\n",
    "optimizer = tf.train.AdamOptimizer().minimize(cost)\n",
    "\n",
    "# Accuracy\n",
    "correct_pred = tf.equal(tf.argmax(logits, 1), tf.argmax(y, 1))\n",
    "accuracy = tf.reduce_mean(tf.cast(correct_pred, tf.float32), name='accuracy')\n",
    "\n",
    "tests.test_conv_net(conv_net)"
   ]
  },
  {
   "cell_type": "markdown",
   "metadata": {},
   "source": [
    "## 训练神经网络\n",
    "\n",
    "### 单次优化\n",
    "\n",
    "实现函数 `train_neural_network` 以进行单次优化（single optimization）。该优化应该使用 `optimizer` 优化 `session`，其中 `feed_dict` 具有以下参数：\n",
    "\n",
    "* `x` 表示图片输入\n",
    "* `y` 表示标签\n",
    "* `keep_prob` 表示丢弃的保留率\n",
    "\n",
    "每个部分都会调用该函数，所以 `tf.global_variables_initializer()` 已经被调用。\n",
    "\n",
    "注意：不需要返回任何内容。该函数只是用来优化神经网络。\n"
   ]
  },
  {
   "cell_type": "code",
   "execution_count": 155,
   "metadata": {},
   "outputs": [
    {
     "name": "stdout",
     "output_type": "stream",
     "text": [
      "Tests Passed\n"
     ]
    }
   ],
   "source": [
    "def train_neural_network(session, optimizer, keep_probability, feature_batch, label_batch):\n",
    "    \"\"\"\n",
    "    Optimize the session on a batch of images and labels\n",
    "    : session: Current TensorFlow session\n",
    "    : optimizer: TensorFlow optimizer function\n",
    "    : keep_probability: keep probability\n",
    "    : feature_batch: Batch of Numpy image data\n",
    "    : label_batch: Batch of Numpy label data\n",
    "    \"\"\"\n",
    "    # TODO: Implement Function\n",
    "    session.run(optimizer, feed_dict={x:feature_batch, y:label_batch, keep_prob:keep_probability})\n",
    "    pass\n",
    "\n",
    "\n",
    "\"\"\"\n",
    "DON'T MODIFY ANYTHING IN THIS CELL THAT IS BELOW THIS LINE\n",
    "\"\"\"\n",
    "tests.test_train_nn(train_neural_network)"
   ]
  },
  {
   "cell_type": "markdown",
   "metadata": {},
   "source": [
    "### 显示数据\n",
    "\n",
    "实现函数 `print_stats` 以输出损失和验证准确率。使用全局变量 `valid_features` 和 `valid_labels` 计算验证准确率。使用保留率 `1.0` 计算损失和验证准确率（loss and validation accuracy）。\n"
   ]
  },
  {
   "cell_type": "code",
   "execution_count": 213,
   "metadata": {},
   "outputs": [],
   "source": [
    "def print_stats(session, feature_batch, label_batch, cost, accuracy):\n",
    "    \"\"\"\n",
    "    Print information about loss and validation accuracy\n",
    "    : session: Current TensorFlow session\n",
    "    : feature_batch: Batch of Numpy image data\n",
    "    : label_batch: Batch of Numpy label data\n",
    "    : cost: TensorFlow cost function\n",
    "    : accuracy: TensorFlow accuracy function\n",
    "    \"\"\"\n",
    "    # TODO: Implement Function\n",
    "    loss = session.run(cost, feed_dict={x:feature_batch, y:label_batch, keep_prob:1.})\n",
    "    acc = session.run(accuracy, feed_dict={x:valid_features, y:valid_labels, keep_prob:1.})\n",
    "    print('Loss:{}\\tValidation Accuracy:{}'.format(loss, acc))\n",
    "    pass"
   ]
  },
  {
   "cell_type": "markdown",
   "metadata": {},
   "source": [
    "### 超参数\n",
    "\n",
    "调试以下超参数：\n",
    "* 设置 `epochs` 表示神经网络停止学习或开始过拟合的迭代次数\n",
    "* 设置 `batch_size`，表示机器内存允许的部分最大体积。大部分人设为以下常见内存大小：\n",
    "\n",
    " * 64\n",
    " * 128\n",
    " * 256\n",
    " * ...\n",
    "* 设置 `keep_probability` 表示使用丢弃时保留节点的概率"
   ]
  },
  {
   "cell_type": "code",
   "execution_count": 249,
   "metadata": {},
   "outputs": [],
   "source": [
    "# TODO: Tune Parameters\n",
    "epochs = 20\n",
    "batch_size = 128\n",
    "keep_probability = 0.5"
   ]
  },
  {
   "cell_type": "markdown",
   "metadata": {},
   "source": [
    "### 在单个 CIFAR-10 部分上训练\n",
    "\n",
    "我们先用单个部分，而不是用所有的 CIFAR-10 批次训练神经网络。这样可以节省时间，并对模型进行迭代，以提高准确率。最终验证准确率达到 50% 或以上之后，在下一部分对所有数据运行模型。\n"
   ]
  },
  {
   "cell_type": "code",
   "execution_count": 250,
   "metadata": {},
   "outputs": [
    {
     "name": "stdout",
     "output_type": "stream",
     "text": [
      "Checking the Training on a Single Batch...\n",
      "Epoch  1, CIFAR-10 Batch 1:  Loss:1.991065263748169\tValidation Accuracy:0.313400000333786\n",
      "Epoch  2, CIFAR-10 Batch 1:  Loss:1.7940013408660889\tValidation Accuracy:0.40560001134872437\n",
      "Epoch  3, CIFAR-10 Batch 1:  Loss:1.5680153369903564\tValidation Accuracy:0.4564000070095062\n",
      "Epoch  4, CIFAR-10 Batch 1:  Loss:1.2698768377304077\tValidation Accuracy:0.49720001220703125\n",
      "Epoch  5, CIFAR-10 Batch 1:  Loss:1.125920057296753\tValidation Accuracy:0.5246000289916992\n",
      "Epoch  6, CIFAR-10 Batch 1:  Loss:0.9779356122016907\tValidation Accuracy:0.5303999781608582\n",
      "Epoch  7, CIFAR-10 Batch 1:  Loss:0.7676936984062195\tValidation Accuracy:0.5595999956130981\n",
      "Epoch  8, CIFAR-10 Batch 1:  Loss:0.691460907459259\tValidation Accuracy:0.5612000226974487\n",
      "Epoch  9, CIFAR-10 Batch 1:  Loss:0.5825949907302856\tValidation Accuracy:0.5968000292778015\n",
      "Epoch 10, CIFAR-10 Batch 1:  Loss:0.5088972449302673\tValidation Accuracy:0.5929999947547913\n",
      "Epoch 11, CIFAR-10 Batch 1:  Loss:0.40433311462402344\tValidation Accuracy:0.6050000190734863\n",
      "Epoch 12, CIFAR-10 Batch 1:  Loss:0.3125670552253723\tValidation Accuracy:0.6205999851226807\n",
      "Epoch 13, CIFAR-10 Batch 1:  Loss:0.24753312766551971\tValidation Accuracy:0.6226000189781189\n",
      "Epoch 14, CIFAR-10 Batch 1:  Loss:0.21682290732860565\tValidation Accuracy:0.614799976348877\n",
      "Epoch 15, CIFAR-10 Batch 1:  Loss:0.18152134120464325\tValidation Accuracy:0.6114000082015991\n",
      "Epoch 16, CIFAR-10 Batch 1:  Loss:0.16528025269508362\tValidation Accuracy:0.5960000157356262\n",
      "Epoch 17, CIFAR-10 Batch 1:  Loss:0.13730914890766144\tValidation Accuracy:0.5803999900817871\n",
      "Epoch 18, CIFAR-10 Batch 1:  Loss:0.13169077038764954\tValidation Accuracy:0.5835999846458435\n",
      "Epoch 19, CIFAR-10 Batch 1:  Loss:0.08239705860614777\tValidation Accuracy:0.5694000124931335\n",
      "Epoch 20, CIFAR-10 Batch 1:  Loss:0.07783454656600952\tValidation Accuracy:0.5925999879837036\n"
     ]
    }
   ],
   "source": [
    "\"\"\"\n",
    "DON'T MODIFY ANYTHING IN THIS CELL\n",
    "\"\"\"\n",
    "print('Checking the Training on a Single Batch...')\n",
    "with tf.Session() as sess:\n",
    "    # Initializing the variables\n",
    "    sess.run(tf.global_variables_initializer())\n",
    "    \n",
    "    # Training cycle\n",
    "    for epoch in range(epochs):\n",
    "        batch_i = 1\n",
    "        for batch_features, batch_labels in helper.load_preprocess_training_batch(batch_i, batch_size):\n",
    "            train_neural_network(sess, optimizer, keep_probability, batch_features, batch_labels)\n",
    "        print('Epoch {:>2}, CIFAR-10 Batch {}:  '.format(epoch + 1, batch_i), end='')\n",
    "        print_stats(sess, batch_features, batch_labels, cost, accuracy)"
   ]
  },
  {
   "cell_type": "markdown",
   "metadata": {},
   "source": [
    "### 完全训练模型\n",
    "\n",
    "现在，单个 CIFAR-10 部分的准确率已经不错了，试试所有五个部分吧。"
   ]
  },
  {
   "cell_type": "code",
   "execution_count": 251,
   "metadata": {},
   "outputs": [
    {
     "name": "stdout",
     "output_type": "stream",
     "text": [
      "Training...\n",
      "Epoch  1, CIFAR-10 Batch 1:  Loss:2.006591320037842\tValidation Accuracy:0.31119999289512634\n",
      "Epoch  1, CIFAR-10 Batch 2:  Loss:1.7570825815200806\tValidation Accuracy:0.41440001130104065\n",
      "Epoch  1, CIFAR-10 Batch 3:  Loss:1.2783459424972534\tValidation Accuracy:0.45080000162124634\n",
      "Epoch  1, CIFAR-10 Batch 4:  Loss:1.3085675239562988\tValidation Accuracy:0.5112000107765198\n",
      "Epoch  1, CIFAR-10 Batch 5:  Loss:1.4461132287979126\tValidation Accuracy:0.521399974822998\n",
      "Epoch  2, CIFAR-10 Batch 1:  Loss:1.3736701011657715\tValidation Accuracy:0.545799970626831\n",
      "Epoch  2, CIFAR-10 Batch 2:  Loss:1.1810336112976074\tValidation Accuracy:0.5722000002861023\n",
      "Epoch  2, CIFAR-10 Batch 3:  Loss:0.9691811800003052\tValidation Accuracy:0.5577999949455261\n",
      "Epoch  2, CIFAR-10 Batch 4:  Loss:0.9829166531562805\tValidation Accuracy:0.5968000292778015\n",
      "Epoch  2, CIFAR-10 Batch 5:  Loss:1.0855515003204346\tValidation Accuracy:0.6209999918937683\n",
      "Epoch  3, CIFAR-10 Batch 1:  Loss:0.9470505714416504\tValidation Accuracy:0.6308000087738037\n",
      "Epoch  3, CIFAR-10 Batch 2:  Loss:0.9383695721626282\tValidation Accuracy:0.6168000102043152\n",
      "Epoch  3, CIFAR-10 Batch 3:  Loss:0.6849833130836487\tValidation Accuracy:0.6370000243186951\n",
      "Epoch  3, CIFAR-10 Batch 4:  Loss:0.7557321190834045\tValidation Accuracy:0.6686000227928162\n",
      "Epoch  3, CIFAR-10 Batch 5:  Loss:0.8726032972335815\tValidation Accuracy:0.642799973487854\n",
      "Epoch  4, CIFAR-10 Batch 1:  Loss:0.7545070648193359\tValidation Accuracy:0.6628000140190125\n",
      "Epoch  4, CIFAR-10 Batch 2:  Loss:0.8620764017105103\tValidation Accuracy:0.6531999707221985\n",
      "Epoch  4, CIFAR-10 Batch 3:  Loss:0.5036847591400146\tValidation Accuracy:0.6668000221252441\n",
      "Epoch  4, CIFAR-10 Batch 4:  Loss:0.6578826904296875\tValidation Accuracy:0.6800000071525574\n",
      "Epoch  4, CIFAR-10 Batch 5:  Loss:0.7077741026878357\tValidation Accuracy:0.6668000221252441\n",
      "Epoch  5, CIFAR-10 Batch 1:  Loss:0.6297175884246826\tValidation Accuracy:0.676800012588501\n",
      "Epoch  5, CIFAR-10 Batch 2:  Loss:0.5978671312332153\tValidation Accuracy:0.6840000152587891\n",
      "Epoch  5, CIFAR-10 Batch 3:  Loss:0.3445279598236084\tValidation Accuracy:0.6830000281333923\n",
      "Epoch  5, CIFAR-10 Batch 4:  Loss:0.4591609537601471\tValidation Accuracy:0.6887999773025513\n",
      "Epoch  5, CIFAR-10 Batch 5:  Loss:0.5122380256652832\tValidation Accuracy:0.694599986076355\n",
      "Epoch  6, CIFAR-10 Batch 1:  Loss:0.49330177903175354\tValidation Accuracy:0.7016000151634216\n",
      "Epoch  6, CIFAR-10 Batch 2:  Loss:0.5034595727920532\tValidation Accuracy:0.6980000138282776\n",
      "Epoch  6, CIFAR-10 Batch 3:  Loss:0.2957308888435364\tValidation Accuracy:0.6940000057220459\n",
      "Epoch  6, CIFAR-10 Batch 4:  Loss:0.36687496304512024\tValidation Accuracy:0.7038000226020813\n",
      "Epoch  6, CIFAR-10 Batch 5:  Loss:0.3662313222885132\tValidation Accuracy:0.7120000123977661\n",
      "Epoch  7, CIFAR-10 Batch 1:  Loss:0.3736301362514496\tValidation Accuracy:0.7138000130653381\n",
      "Epoch  7, CIFAR-10 Batch 2:  Loss:0.4555915892124176\tValidation Accuracy:0.7049999833106995\n",
      "Epoch  7, CIFAR-10 Batch 3:  Loss:0.2550520896911621\tValidation Accuracy:0.7184000015258789\n",
      "Epoch  7, CIFAR-10 Batch 4:  Loss:0.278064489364624\tValidation Accuracy:0.7081999778747559\n",
      "Epoch  7, CIFAR-10 Batch 5:  Loss:0.37931209802627563\tValidation Accuracy:0.6980000138282776\n",
      "Epoch  8, CIFAR-10 Batch 1:  Loss:0.32380715012550354\tValidation Accuracy:0.7275999784469604\n",
      "Epoch  8, CIFAR-10 Batch 2:  Loss:0.3897063434123993\tValidation Accuracy:0.717199981212616\n",
      "Epoch  8, CIFAR-10 Batch 3:  Loss:0.23704203963279724\tValidation Accuracy:0.7110000252723694\n",
      "Epoch  8, CIFAR-10 Batch 4:  Loss:0.22451558709144592\tValidation Accuracy:0.7039999961853027\n",
      "Epoch  8, CIFAR-10 Batch 5:  Loss:0.2971879243850708\tValidation Accuracy:0.7160000205039978\n",
      "Epoch  9, CIFAR-10 Batch 1:  Loss:0.2642088830471039\tValidation Accuracy:0.7188000082969666\n",
      "Epoch  9, CIFAR-10 Batch 2:  Loss:0.3552969694137573\tValidation Accuracy:0.7021999955177307\n",
      "Epoch  9, CIFAR-10 Batch 3:  Loss:0.15817418694496155\tValidation Accuracy:0.7178000211715698\n",
      "Epoch  9, CIFAR-10 Batch 4:  Loss:0.18837963044643402\tValidation Accuracy:0.7139999866485596\n",
      "Epoch  9, CIFAR-10 Batch 5:  Loss:0.20942123234272003\tValidation Accuracy:0.7193999886512756\n",
      "Epoch 10, CIFAR-10 Batch 1:  Loss:0.2292177975177765\tValidation Accuracy:0.7232000231742859\n",
      "Epoch 10, CIFAR-10 Batch 2:  Loss:0.24572768807411194\tValidation Accuracy:0.7229999899864197\n",
      "Epoch 10, CIFAR-10 Batch 3:  Loss:0.13907872140407562\tValidation Accuracy:0.722000002861023\n",
      "Epoch 10, CIFAR-10 Batch 4:  Loss:0.13323955237865448\tValidation Accuracy:0.7134000062942505\n",
      "Epoch 10, CIFAR-10 Batch 5:  Loss:0.19718581438064575\tValidation Accuracy:0.727400004863739\n",
      "Epoch 11, CIFAR-10 Batch 1:  Loss:0.21561717987060547\tValidation Accuracy:0.7161999940872192\n",
      "Epoch 11, CIFAR-10 Batch 2:  Loss:0.1858520209789276\tValidation Accuracy:0.7210000157356262\n",
      "Epoch 11, CIFAR-10 Batch 3:  Loss:0.13151538372039795\tValidation Accuracy:0.717199981212616\n",
      "Epoch 11, CIFAR-10 Batch 4:  Loss:0.13153307139873505\tValidation Accuracy:0.7152000069618225\n",
      "Epoch 11, CIFAR-10 Batch 5:  Loss:0.16799555718898773\tValidation Accuracy:0.7260000109672546\n",
      "Epoch 12, CIFAR-10 Batch 1:  Loss:0.1611817181110382\tValidation Accuracy:0.7164000272750854\n",
      "Epoch 12, CIFAR-10 Batch 2:  Loss:0.17396119236946106\tValidation Accuracy:0.717199981212616\n",
      "Epoch 12, CIFAR-10 Batch 3:  Loss:0.09741108119487762\tValidation Accuracy:0.7178000211715698\n",
      "Epoch 12, CIFAR-10 Batch 4:  Loss:0.10795712471008301\tValidation Accuracy:0.7184000015258789\n",
      "Epoch 12, CIFAR-10 Batch 5:  Loss:0.11244571208953857\tValidation Accuracy:0.7315999865531921\n",
      "Epoch 13, CIFAR-10 Batch 1:  Loss:0.16410990059375763\tValidation Accuracy:0.7200000286102295\n",
      "Epoch 13, CIFAR-10 Batch 2:  Loss:0.17750993371009827\tValidation Accuracy:0.7350000143051147\n",
      "Epoch 13, CIFAR-10 Batch 3:  Loss:0.07982613891363144\tValidation Accuracy:0.7211999893188477\n",
      "Epoch 13, CIFAR-10 Batch 4:  Loss:0.0811062604188919\tValidation Accuracy:0.7182000279426575\n",
      "Epoch 13, CIFAR-10 Batch 5:  Loss:0.10119205713272095\tValidation Accuracy:0.729200005531311\n",
      "Epoch 14, CIFAR-10 Batch 1:  Loss:0.14198724925518036\tValidation Accuracy:0.7102000117301941\n",
      "Epoch 14, CIFAR-10 Batch 2:  Loss:0.1006174311041832\tValidation Accuracy:0.7157999873161316\n",
      "Epoch 14, CIFAR-10 Batch 3:  Loss:0.044957906007766724\tValidation Accuracy:0.7098000049591064\n",
      "Epoch 14, CIFAR-10 Batch 4:  Loss:0.08525313436985016\tValidation Accuracy:0.7289999723434448\n",
      "Epoch 14, CIFAR-10 Batch 5:  Loss:0.07333526760339737\tValidation Accuracy:0.722599983215332\n",
      "Epoch 15, CIFAR-10 Batch 1:  Loss:0.15121792256832123\tValidation Accuracy:0.7174000144004822\n",
      "Epoch 15, CIFAR-10 Batch 2:  Loss:0.11252494901418686\tValidation Accuracy:0.7071999907493591\n",
      "Epoch 15, CIFAR-10 Batch 3:  Loss:0.0668315440416336\tValidation Accuracy:0.7235999703407288\n",
      "Epoch 15, CIFAR-10 Batch 4:  Loss:0.06976871937513351\tValidation Accuracy:0.7139999866485596\n",
      "Epoch 15, CIFAR-10 Batch 5:  Loss:0.08883151412010193\tValidation Accuracy:0.7282000184059143\n",
      "Epoch 16, CIFAR-10 Batch 1:  Loss:0.08003637194633484\tValidation Accuracy:0.7075999975204468\n",
      "Epoch 16, CIFAR-10 Batch 2:  Loss:0.06669275462627411\tValidation Accuracy:0.7351999878883362\n",
      "Epoch 16, CIFAR-10 Batch 3:  Loss:0.05886584520339966\tValidation Accuracy:0.7300000190734863\n",
      "Epoch 16, CIFAR-10 Batch 4:  Loss:0.07241597026586533\tValidation Accuracy:0.7099999785423279\n",
      "Epoch 16, CIFAR-10 Batch 5:  Loss:0.059050582349300385\tValidation Accuracy:0.7233999967575073\n",
      "Epoch 17, CIFAR-10 Batch 1:  Loss:0.08279626071453094\tValidation Accuracy:0.7203999757766724\n",
      "Epoch 17, CIFAR-10 Batch 2:  Loss:0.06349557638168335\tValidation Accuracy:0.7307999730110168\n",
      "Epoch 17, CIFAR-10 Batch 3:  Loss:0.013252660632133484\tValidation Accuracy:0.722000002861023\n",
      "Epoch 17, CIFAR-10 Batch 4:  Loss:0.03522467985749245\tValidation Accuracy:0.7134000062942505\n",
      "Epoch 17, CIFAR-10 Batch 5:  Loss:0.055871617048978806\tValidation Accuracy:0.7287999987602234\n",
      "Epoch 18, CIFAR-10 Batch 1:  Loss:0.0637357234954834\tValidation Accuracy:0.7170000076293945\n",
      "Epoch 18, CIFAR-10 Batch 2:  Loss:0.08649560064077377\tValidation Accuracy:0.7156000137329102\n",
      "Epoch 18, CIFAR-10 Batch 3:  Loss:0.02356221340596676\tValidation Accuracy:0.7247999906539917\n",
      "Epoch 18, CIFAR-10 Batch 4:  Loss:0.058396030217409134\tValidation Accuracy:0.7146000266075134\n"
     ]
    },
    {
     "name": "stdout",
     "output_type": "stream",
     "text": [
      "Epoch 18, CIFAR-10 Batch 5:  Loss:0.05827882140874863\tValidation Accuracy:0.728600025177002\n",
      "Epoch 19, CIFAR-10 Batch 1:  Loss:0.0772155150771141\tValidation Accuracy:0.7196000218391418\n",
      "Epoch 19, CIFAR-10 Batch 2:  Loss:0.046556152403354645\tValidation Accuracy:0.7271999716758728\n",
      "Epoch 19, CIFAR-10 Batch 3:  Loss:0.0219020526856184\tValidation Accuracy:0.7184000015258789\n",
      "Epoch 19, CIFAR-10 Batch 4:  Loss:0.046896278858184814\tValidation Accuracy:0.6967999935150146\n",
      "Epoch 19, CIFAR-10 Batch 5:  Loss:0.027125436812639236\tValidation Accuracy:0.7283999919891357\n",
      "Epoch 20, CIFAR-10 Batch 1:  Loss:0.04184604436159134\tValidation Accuracy:0.7287999987602234\n",
      "Epoch 20, CIFAR-10 Batch 2:  Loss:0.05083613842725754\tValidation Accuracy:0.7211999893188477\n",
      "Epoch 20, CIFAR-10 Batch 3:  Loss:0.020497990772128105\tValidation Accuracy:0.7206000089645386\n",
      "Epoch 20, CIFAR-10 Batch 4:  Loss:0.03511028364300728\tValidation Accuracy:0.7092000246047974\n",
      "Epoch 20, CIFAR-10 Batch 5:  Loss:0.04073589667677879\tValidation Accuracy:0.7224000096321106\n"
     ]
    }
   ],
   "source": [
    "\"\"\"\n",
    "DON'T MODIFY ANYTHING IN THIS CELL\n",
    "\"\"\"\n",
    "save_model_path = './image_classification'\n",
    "\n",
    "print('Training...')\n",
    "with tf.Session() as sess:\n",
    "    # Initializing the variables\n",
    "    sess.run(tf.global_variables_initializer())\n",
    "    \n",
    "    # Training cycle\n",
    "    for epoch in range(epochs):\n",
    "        # Loop over all batches\n",
    "        n_batches = 5\n",
    "        for batch_i in range(1, n_batches + 1):\n",
    "            for batch_features, batch_labels in helper.load_preprocess_training_batch(batch_i, batch_size):\n",
    "                train_neural_network(sess, optimizer, keep_probability, batch_features, batch_labels)\n",
    "            print('Epoch {:>2}, CIFAR-10 Batch {}:  '.format(epoch + 1, batch_i), end='')\n",
    "            print_stats(sess, batch_features, batch_labels, cost, accuracy)\n",
    "            \n",
    "    # Save Model\n",
    "    saver = tf.train.Saver()\n",
    "    save_path = saver.save(sess, save_model_path)"
   ]
  },
  {
   "cell_type": "markdown",
   "metadata": {},
   "source": [
    "# 检查点\n",
    "\n",
    "模型已保存到本地。\n",
    "\n",
    "## 测试模型\n",
    "\n",
    "利用测试数据集测试你的模型。这将是最终的准确率。你的准确率应该高于 50%。如果没达到，请继续调整模型结构和参数。"
   ]
  },
  {
   "cell_type": "code",
   "execution_count": 252,
   "metadata": {},
   "outputs": [
    {
     "name": "stdout",
     "output_type": "stream",
     "text": [
      "INFO:tensorflow:Restoring parameters from ./image_classification\n",
      "Testing Accuracy: 0.7196400316455697\n",
      "\n"
     ]
    },
    {
     "data": {
      "image/png": "[encoded data removed]",
      "text/plain": [
       "<matplotlib.figure.Figure at 0x1a18227ef0>"
      ]
     },
     "metadata": {
      "image/png": {
       "height": 319,
       "width": 353
      }
     },
     "output_type": "display_data"
    }
   ],
   "source": [
    "\"\"\"\n",
    "DON'T MODIFY ANYTHING IN THIS CELL\n",
    "\"\"\"\n",
    "%matplotlib inline\n",
    "%config InlineBackend.figure_format = 'retina'\n",
    "\n",
    "import tensorflow as tf\n",
    "import pickle\n",
    "import helper\n",
    "import random\n",
    "\n",
    "# Set batch size if not already set\n",
    "try:\n",
    "    if batch_size:\n",
    "        pass\n",
    "except NameError:\n",
    "    batch_size = 64\n",
    "\n",
    "save_model_path = './image_classification'\n",
    "n_samples = 4\n",
    "top_n_predictions = 3\n",
    "\n",
    "def test_model():\n",
    "    \"\"\"\n",
    "    Test the saved model against the test dataset\n",
    "    \"\"\"\n",
    "\n",
    "    test_features, test_labels = pickle.load(open('preprocess_test.p', mode='rb'))\n",
    "    loaded_graph = tf.Graph()\n",
    "\n",
    "    with tf.Session(graph=loaded_graph) as sess:\n",
    "        # Load model\n",
    "        loader = tf.train.import_meta_graph(save_model_path + '.meta')\n",
    "        loader.restore(sess, save_model_path)\n",
    "\n",
    "        # Get Tensors from loaded model\n",
    "        loaded_x = loaded_graph.get_tensor_by_name('x:0')\n",
    "        loaded_y = loaded_graph.get_tensor_by_name('y:0')\n",
    "        loaded_keep_prob = loaded_graph.get_tensor_by_name('keep_prob:0')\n",
    "        loaded_logits = loaded_graph.get_tensor_by_name('logits:0')\n",
    "        loaded_acc = loaded_graph.get_tensor_by_name('accuracy:0')\n",
    "        \n",
    "        # Get accuracy in batches for memory limitations\n",
    "        test_batch_acc_total = 0\n",
    "        test_batch_count = 0\n",
    "        \n",
    "        for test_feature_batch, test_label_batch in helper.batch_features_labels(test_features, test_labels, batch_size):\n",
    "            test_batch_acc_total += sess.run(\n",
    "                loaded_acc,\n",
    "                feed_dict={loaded_x: test_feature_batch, loaded_y: test_label_batch, loaded_keep_prob: 1.0})\n",
    "            test_batch_count += 1\n",
    "\n",
    "        print('Testing Accuracy: {}\\n'.format(test_batch_acc_total/test_batch_count))\n",
    "\n",
    "        # Print Random Samples\n",
    "        random_test_features, random_test_labels = tuple(zip(*random.sample(list(zip(test_features, test_labels)), n_samples)))\n",
    "        random_test_predictions = sess.run(\n",
    "            tf.nn.top_k(tf.nn.softmax(loaded_logits), top_n_predictions),\n",
    "            feed_dict={loaded_x: random_test_features, loaded_y: random_test_labels, loaded_keep_prob: 1.0})\n",
    "        helper.display_image_predictions(random_test_features, random_test_labels, random_test_predictions)\n",
    "\n",
    "\n",
    "test_model()"
   ]
  },
  {
   "cell_type": "markdown",
   "metadata": {},
   "source": [
    "## 为何准确率只有50-80%？\n",
    "\n",
    "你可能想问，为何准确率不能更高了？首先，对于简单的 CNN 网络来说，50% 已经不低了。纯粹猜测的准确率为10%。但是，你可能注意到有人的准确率[远远超过 80%](http://rodrigob.github.io/are_we_there_yet/build/classification_datasets_results.html#43494641522d3130)。这是因为我们还没有介绍所有的神经网络知识。我们还需要掌握一些其他技巧。\n",
    "\n",
    "## 提交项目\n",
    "\n",
    "提交项目时，确保先运行所有单元，然后再保存记事本。将 notebook 文件另存为“dlnd_image_classification.ipynb”，再在目录 \"File\" -> \"Download as\" 另存为 HTML 格式。请在提交的项目中包含 “helper.py” 和 “problem_unittests.py” 文件。\n"
   ]
  }
 ],
 "metadata": {
  "kernelspec": {
   "display_name": "Python 3",
   "language": "python",
   "name": "python3"
  },
  "language_info": {
   "codemirror_mode": {
    "name": "ipython",
    "version": 3
   },
   "file_extension": ".py",
   "mimetype": "text/x-python",
   "name": "python",
   "nbconvert_exporter": "python",
   "pygments_lexer": "ipython3",
   "version": "3.5.4"
  }
 },
 "nbformat": 4,
 "nbformat_minor": 1
}
